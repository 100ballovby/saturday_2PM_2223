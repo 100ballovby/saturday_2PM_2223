{
 "cells": [
  {
   "cell_type": "markdown",
   "metadata": {
    "collapsed": true,
    "pycharm": {
     "is_executing": true
    }
   },
   "source": [
    "## Задача \"Развернуть слова в строке\"\n",
    "\n",
    "<p style=\"font-size: 18px;\">Передается строка.\n",
    "Нужно развернуть каждое слово в строке.\n",
    "Вместе с любыми знаками препинания, но! в строчке\n",
    "могут быть двойные пробелы.</p>\n",
    "\n",
    "<p style=\"font-size: 18px;\">Чтобы развернуть строчку, есть два варианта развития событий: цикл с обратным ходом или срезы строк.</p>"
   ]
  },
  {
   "cell_type": "code",
   "execution_count": 23,
   "metadata": {},
   "outputs": [
    {
     "name": "stdout",
     "output_type": "stream",
     "text": [
      "!йерднА ,тевирП\n"
     ]
    }
   ],
   "source": [
    "a = 'Привет, Андрей!'\n",
    "ans = ''\n",
    "for i in range(len(a) - 1, -1, -1):\n",
    "    ans += a[i]\n",
    "    \n",
    "print(ans)"
   ]
  },
  {
   "cell_type": "markdown",
   "metadata": {},
   "source": [
    "<p style=\"font-size: 18px;\">Срез строчки - достать символы строки в рамках диапазона индексов. Пишется как <code>строка[старт:стоп:шаг]</code>.</p>"
   ]
  },
  {
   "cell_type": "code",
   "execution_count": 24,
   "metadata": {},
   "outputs": [
    {
     "name": "stdout",
     "output_type": "stream",
     "text": [
      "мыла раму\n"
     ]
    }
   ],
   "source": [
    "phrase = 'Мама мыла раму, где мама?'\n",
    "print(phrase[5:14])"
   ]
  },
  {
   "cell_type": "code",
   "execution_count": 25,
   "metadata": {},
   "outputs": [
    {
     "name": "stdout",
     "output_type": "stream",
     "text": [
      "Мм ыарм\n"
     ]
    }
   ],
   "source": [
    "print(phrase[0:14:2])"
   ]
  },
  {
   "cell_type": "markdown",
   "metadata": {},
   "source": [
    "<p style=\"font-size: 18px;\">Во-первых, когда вы срезаете строчку <b>С НАЧАЛА</b> или с определенного символа <b>ДО КОНЦА</b>, вы можете границы индексов не указывать.</p>"
   ]
  },
  {
   "cell_type": "code",
   "execution_count": 26,
   "metadata": {},
   "outputs": [
    {
     "name": "stdout",
     "output_type": "stream",
     "text": [
      "Мама \n",
      "где мама?\n"
     ]
    }
   ],
   "source": [
    "print(phrase[:5])  # срез с начала\n",
    "print(phrase[16:])  # срез до конца строки "
   ]
  },
  {
   "cell_type": "markdown",
   "metadata": {},
   "source": [
    "<p style=\"font-size: 18px;\">Вы можете вообще не указывать границы индексов. В этом случае вы просто получите первоначальную строку.</p>"
   ]
  },
  {
   "cell_type": "code",
   "execution_count": 27,
   "metadata": {},
   "outputs": [
    {
     "name": "stdout",
     "output_type": "stream",
     "text": [
      "True\n",
      "Мама мыла раму, где мама?\n"
     ]
    }
   ],
   "source": [
    "print(phrase[:] == phrase)\n",
    "print(phrase[:])"
   ]
  },
  {
   "cell_type": "markdown",
   "metadata": {},
   "source": [
    "<p style=\"font-size: 18px;\">Эта операция максимально бесполезная, пока в дело не вступает шаг.</p>"
   ]
  },
  {
   "cell_type": "code",
   "execution_count": 28,
   "metadata": {},
   "outputs": [
    {
     "name": "stdout",
     "output_type": "stream",
     "text": [
      "!йерднА ,тевирП\n"
     ]
    }
   ],
   "source": [
    "a = 'Привет, Андрей!'\n",
    "print(a[::-1])"
   ]
  },
  {
   "cell_type": "markdown",
   "metadata": {},
   "source": [
    "<p style=\"font-size: 18px;\">Для решения задачи, по развороту всех слов в строке, мы можем написать такую функцию:</p>"
   ]
  },
  {
   "cell_type": "code",
   "execution_count": 29,
   "metadata": {},
   "outputs": [
    {
     "name": "stdout",
     "output_type": "stream",
     "text": [
      ",тевирП !йерднА\n",
      "мечаЗ ыт лунюлп в ?йебулог\n",
      "йонйовД леборп\n"
     ]
    }
   ],
   "source": [
    "def reverse_words(string):\n",
    "    new_str = []\n",
    "    for word in string.split():  # передаю список напрямую как коллекцию для повторений цикла \n",
    "        new_str.append(word[::-1])\n",
    "    return ' '.join(new_str)\n",
    "    \n",
    "print(reverse_words('Привет, Андрей!'))\n",
    "print(reverse_words('Зачем  ты плюнул  в голубей?')) \n",
    "print(reverse_words('Двойной пробел'))"
   ]
  },
  {
   "cell_type": "markdown",
   "metadata": {},
   "source": [
    "<p style=\"font-size: 18px;\">Вариант решения задачи в две строки через <code>map()</code> и <code>lambda</code>.</p>"
   ]
  },
  {
   "cell_type": "code",
   "execution_count": 30,
   "metadata": {},
   "outputs": [
    {
     "name": "stdout",
     "output_type": "stream",
     "text": [
      ",тевирП !йерднА\n",
      "мечаЗ ыт лунюлп в ?йебулог\n",
      "йонйовД леборп\n"
     ]
    }
   ],
   "source": [
    "def reverse_words_map_lambda(string):\n",
    "    return ' '.join(map(lambda x: x[::-1], string.split))\n",
    "\n",
    "print(reverse_words('Привет, Андрей!'))\n",
    "print(reverse_words('Зачем  ты плюнул  в голубей?')) \n",
    "print(reverse_words('Двойной пробел'))"
   ]
  },
  {
   "cell_type": "markdown",
   "metadata": {},
   "source": [
    "<p style=\"font-size: 18px;\">Вариант решения попроще:</p>"
   ]
  },
  {
   "cell_type": "code",
   "execution_count": 31,
   "metadata": {},
   "outputs": [
    {
     "name": "stdout",
     "output_type": "stream",
     "text": [
      ",тевирП !йерднА\n",
      "мечаЗ ыт лунюлп в ?йебулог\n",
      "йонйовД леборп\n"
     ]
    }
   ],
   "source": [
    "def reverse_words_another(string):\n",
    "    return ' '.join(string.split()[::-1])\n",
    "\n",
    "print(reverse_words('Привет, Андрей!'))\n",
    "print(reverse_words('Зачем  ты плюнул  в голубей?')) \n",
    "print(reverse_words('Двойной пробел'))"
   ]
  },
  {
   "cell_type": "code",
   "execution_count": 31,
   "metadata": {},
   "outputs": [],
   "source": []
  }
 ],
 "metadata": {
  "kernelspec": {
   "display_name": "Python 3 (ipykernel)",
   "language": "python",
   "name": "python3"
  },
  "language_info": {
   "codemirror_mode": {
    "name": "ipython",
    "version": 3
   },
   "file_extension": ".py",
   "mimetype": "text/x-python",
   "name": "python",
   "nbconvert_exporter": "python",
   "pygments_lexer": "ipython3",
   "version": "3.9.4"
  }
 },
 "nbformat": 4,
 "nbformat_minor": 1
}
