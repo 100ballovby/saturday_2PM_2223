{
 "cells": [
  {
   "cell_type": "markdown",
   "metadata": {
    "collapsed": true,
    "pycharm": {
     "is_executing": true
    }
   },
   "source": [
    "# Функция <code>filter(func, iterable)</code>\n",
    "\n",
    "<p>В то время как <code>map()</code> пропускает каждый элемент итерируемого через функцию и возвращает результат всех элементов, прошедших через функцию <code>filter()</code>, прежде всего, требует, чтобы функция возвращала логические значения (true или false), а затем передает каждый элемент итерируемого через функцию, «отфильтровывая» те, которые являются ложными. Имеет следующий синтаксис:</p>\n",
    "<p><code>filter(func, iterable)</code></p>\n",
    "\n",
    "<p>Следующие пункты должны быть отмечены относительно функции <code>filter()</code>:</p>\n",
    "<ul>\n",
    " <li>В отличие от функции <code>map()</code> - функции <code>filter</code>, требуется только один итерируемый аргумент.</li>\n",
    " <li>Аргумент <code>func</code> необходим для возврата логического типа. Если этого не происходит, фукция <code>filter</code> просто возвращает передаваемый ему <code>iterable</code>. Кроме того, поскольку требуется только один итерируемый, подразумевается, что func должен принимать только один аргумент.</li>\n",
    " <li><code>filter</code> пропускает каждый элемент в итерируемом через <code>func</code> возвращает только только те, которые имеют значение true. Ведь это же заложено в самом названии -- «фильтр».</li>"
   ]
  },
  {
   "cell_type": "code",
   "execution_count": 2,
   "metadata": {},
   "outputs": [
    {
     "name": "stdout",
     "output_type": "stream",
     "text": [
      "[89, 81, 100, 90, 78]\n"
     ]
    }
   ],
   "source": [
    "ct = [66, 75, 45, 89, 81, 65, 34, 20, 100, 90, 78]\n",
    "\n",
    "over_75 = list(filter(lambda mark: mark > 75, ct))\n",
    "\n",
    "print(over_75)"
   ]
  },
  {
   "cell_type": "markdown",
   "metadata": {},
   "source": [
    "<p>Если бы функции <code>filter</code> не было, то решение этой задачи могло бы выглядеть следующим образом:</p>"
   ]
  },
  {
   "cell_type": "code",
   "execution_count": 9,
   "metadata": {},
   "outputs": [
    {
     "name": "stdout",
     "output_type": "stream",
     "text": [
      "[89, 81, 100, 90, 78]\n"
     ]
    }
   ],
   "source": [
    "ct = [66, 75, 45, 89, 81, 65, 34, 20, 100, 90, 78]\n",
    "\n",
    "def over_75(array):\n",
    "    res = []\n",
    "    for mark in array:\n",
    "        if mark > 75:\n",
    "            res.append(mark)\n",
    "    return res\n",
    "\n",
    "print(over_75(ct))"
   ]
  },
  {
   "cell_type": "markdown",
   "metadata": {},
   "source": [
    "<p>Задача 2. Нужно из списка слов отфильтровать только те слова, которые начинаются и заканчиваются на одну и ту же букву.</p>"
   ]
  },
  {
   "cell_type": "code",
   "execution_count": 6,
   "metadata": {},
   "outputs": [
    {
     "name": "stdout",
     "output_type": "stream",
     "text": [
      "['шалаш', 'репетитор', 'казак']\n"
     ]
    }
   ],
   "source": [
    "words_1 = ['шалаш', 'репетитор', 'апельсин', 'ананас', 'молоко', 'казак', 'а']\n",
    "\n",
    "same_letters = list(filter(lambda word: word[0] == word[-1] and len(word) > 1, words_1))\n",
    "\n",
    "print(same_letters)"
   ]
  },
  {
   "cell_type": "markdown",
   "metadata": {},
   "source": [
    "<p>Если бы функции <code>filter</code> не было, то решение этой задачи могло бы выглядеть следующим образом:</p>"
   ]
  },
  {
   "cell_type": "code",
   "execution_count": 8,
   "metadata": {},
   "outputs": [
    {
     "name": "stdout",
     "output_type": "stream",
     "text": [
      "['шалаш', 'репетитор', 'казак']\n"
     ]
    }
   ],
   "source": [
    "words_1 = ['шалаш', 'репетитор', 'апельсин', 'ананас', 'молоко', 'казак', 'а']\n",
    "\n",
    "def same_letters(array):\n",
    "    res = []\n",
    "    for i in range(len(array)):\n",
    "        if array[i][0] == array[i][-1] and len(array[i]) > 1:\n",
    "            res.append(array[i])    \n",
    "    return res\n",
    "\n",
    "print(same_letters(words_1))\n"
   ]
  },
  {
   "cell_type": "markdown",
   "metadata": {},
   "source": [
    "<p>Следующая задача такова: необходимо из списка слов найти только те, которые являются палиндромами. То есть читаются одинаково как в одну сторону, так и в другую: <b>довод</b>. Чтобы сделать это функцией <code>filter</code>, напишем следующее:</p>"
   ]
  },
  {
   "cell_type": "code",
   "execution_count": 10,
   "metadata": {},
   "outputs": [
    {
     "name": "stdout",
     "output_type": "stream",
     "text": [
      "['довод', 'летел', 'заказ', 'ротор']\n"
     ]
    }
   ],
   "source": [
    "words = ['довод', 'привет', 'апельсин', 'летел', 'заказ', 'котлета', 'ротор']\n",
    "\n",
    "dromes = list(filter(lambda word: word == word[::-1], words))\n",
    "\n",
    "print(dromes)"
   ]
  },
  {
   "cell_type": "markdown",
   "metadata": {},
   "source": [
    "# Функция <code>reduce()</code>\n",
    "\n",
    "<p>Функция <code>reduce</code> применяет функцию двух аргументов кумулятивно к элементам итерируемого, необязательно начиная с начального аргумента. Имеет следующий синтаксис:</p>\n",
    "<p><code>reduce(func, iterable, [initial])</code></p>\n",
    "\n",
    "<p>Где <code>func</code> это функция, к которой кумулятивно применяется каждый элемент <code>iterable</code>, а <code>initial</code> необязательное значение, которое помещается перед элементами итерируемого в вычислении и служит значением по умолчанию, когда итерируемый объект пуст. О <code>reduce()</code> должно быть отмечено следующее:</p>\n",
    "<ol>\n",
    "    <li><code>func</code> требуется два аргумента, первый из которых является первым элементом в iterable (если initial не указан) а второй - вторым элементом в <code>iterable</code>. Если <code>initial</code> указано, то оно становится первым аргументом функции <code>func</code>, а первый элемент в <code>iterable</code> становится вторым элементом.</li>\n",
    "    <li>Функция <code>reduce</code> \"уменьшает\" <code>iterable</code> до одного значения.</li>\n",
    "    </ol>"
   ]
  },
  {
   "cell_type": "code",
   "execution_count": 13,
   "metadata": {},
   "outputs": [
    {
     "name": "stdout",
     "output_type": "stream",
     "text": [
      "50\n",
      "50\n"
     ]
    }
   ],
   "source": [
    "from functools import reduce\n",
    "\n",
    "numbers = [3, 4, 6, 9, 16, 12]\n",
    "\n",
    "res = reduce(lambda x, y: x + y, numbers)\n",
    "\n",
    "print(res)\n",
    "print(sum(numbers))"
   ]
  },
  {
   "cell_type": "markdown",
   "metadata": {},
   "source": [
    "<p>Если дать функции необязательное значение, прооизойдет следующее:</p>"
   ]
  },
  {
   "cell_type": "code",
   "execution_count": 14,
   "metadata": {},
   "outputs": [
    {
     "name": "stdout",
     "output_type": "stream",
     "text": [
      "70\n"
     ]
    }
   ],
   "source": [
    "from functools import reduce\n",
    "\n",
    "numbers = [3, 4, 6, 9, 16, 12]\n",
    "\n",
    "res = reduce(lambda x, y: x + y, numbers, 20)\n",
    "\n",
    "print(res)"
   ]
  },
  {
   "cell_type": "markdown",
   "metadata": {},
   "source": [
    "<p>Если передать <code>reduce</code> необязательное значение, он будет использовать его в качестве первого аргумента для <code>lambda</code>.</p>"
   ]
  },
  {
   "cell_type": "code",
   "execution_count": null,
   "metadata": {},
   "outputs": [],
   "source": []
  }
 ],
 "metadata": {
  "kernelspec": {
   "display_name": "Python 3 (ipykernel)",
   "language": "python",
   "name": "python3"
  },
  "language_info": {
   "codemirror_mode": {
    "name": "ipython",
    "version": 3
   },
   "file_extension": ".py",
   "mimetype": "text/x-python",
   "name": "python",
   "nbconvert_exporter": "python",
   "pygments_lexer": "ipython3",
   "version": "3.9.4"
  }
 },
 "nbformat": 4,
 "nbformat_minor": 1
}
