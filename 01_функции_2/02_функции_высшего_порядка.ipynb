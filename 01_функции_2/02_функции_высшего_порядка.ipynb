{
 "cells": [
  {
   "cell_type": "markdown",
   "metadata": {
    "collapsed": true
   },
   "source": [
    "# Функции высшего порядка.\n",
    "\n",
    "<p>Функции <code>map()</code>, <code>filter()</code>, <code>reduce()</code> - основа парадигмы функционального программирования. Они позволяют вам не беспокоиться о наличии условий, циклов и других управляющих конструкций, а просто писать код.</p>\n",
    "\n",
    "## Функция <code>map()</code>\n",
    "\n",
    "<p>Синтаксис функции: <code>map(func(), *iterables)</code>. </p>"
   ]
  },
  {
   "cell_type": "code",
   "execution_count": 21,
   "metadata": {},
   "outputs": [],
   "source": [
    "my_friends = ['саша', 'вова', 'федя', 'иван']"
   ]
  },
  {
   "cell_type": "markdown",
   "metadata": {},
   "source": [
    "<p>У меня есть список моих друзей, имена которых написаны в нижнем регистре. Они нужны мне как список, но каждая строчка должна быть написана в верхнем регистре. Если бы я не знал, что такое функции, я бы написал что-то вроде такого:</p>"
   ]
  },
  {
   "cell_type": "code",
   "execution_count": 22,
   "metadata": {},
   "outputs": [
    {
     "name": "stdout",
     "output_type": "stream",
     "text": [
      "['САША', 'ВОВА', 'ФЕДЯ', 'ИВАН']\n"
     ]
    }
   ],
   "source": [
    "upper_friends = []\n",
    "\n",
    "for friend in my_friends:\n",
    "    friend_ = friend.upper()\n",
    "    upper_friends.append(friend_)\n",
    "    \n",
    "print(upper_friends)"
   ]
  },
  {
   "cell_type": "markdown",
   "metadata": {},
   "source": [
    "<p>Этот способ занимает слишком много места, поэтому я воспользуюсь решением с функцией <code>map()</code>.</p>"
   ]
  },
  {
   "cell_type": "code",
   "execution_count": 23,
   "metadata": {},
   "outputs": [
    {
     "name": "stdout",
     "output_type": "stream",
     "text": [
      "['САША', 'ВОВА', 'ФЕДЯ', 'ИВАН']\n"
     ]
    }
   ],
   "source": [
    "my_friends = ['саша', 'вова', 'федя', 'иван']\n",
    "\n",
    "upper_friends = list(map(str.upper, my_friends))\n",
    "print(upper_friends)"
   ]
  },
  {
   "cell_type": "markdown",
   "metadata": {},
   "source": [
    "<p>Вы должны оборачивать результат работы функции <code>map()</code> функцией <code>list()</code>, иначе вместо готового списка вы получете объект <code>map</code>, с которым вы ничего не можете сделать.</p>\n",
    "\n",
    "<p><code><span style=\"color: green;\">str</span>.upper</code> - пишется потому что функция <code>upper()</code> может применяться только к строчкам. Так как мы не можем напрямую написать ему, к какой строчке он должен быть применен, мы прописываем перед ним общий класс <code>str</code>.</p>\n",
    "\n",
    "# Задача 1. Округление.\n",
    "\n",
    "<p>Представим, что у меня есть список областей круга в виде десятичных дробей. У каждой десятичной дроби 5 знаков после десятичной точки. Я хочу, чтобы каждый элемент списка был округлен до количества разрядов, соответствующего его месту в списке.</p>\n",
    "\n",
    "<p>Для округления у меня есть функция <code>round()</code>, которая принимает не только десятичную дробь, но и количество знаков, до котрого ее нужно округлить.</p>"
   ]
  },
  {
   "cell_type": "code",
   "execution_count": 24,
   "metadata": {},
   "outputs": [],
   "source": [
    "circle_areas = [3.56674, 5.78342, 4.00916, 56.73012, 9.01344, 32.00013]"
   ]
  },
  {
   "cell_type": "markdown",
   "metadata": {},
   "source": [
    "<p>Так как функция <code>round()</code> принимает в себя два аргумента, я должен буду отдать функции <code>map()</code> два итерируемых объекта. Первый объект - это мой список, а в качестве второго (отвечающего за порядковые номера элементов списка) я использую знакомый нам <code>range()</code></p>"
   ]
  },
  {
   "cell_type": "code",
   "execution_count": 25,
   "metadata": {},
   "outputs": [
    {
     "name": "stdout",
     "output_type": "stream",
     "text": [
      "[3.6, 5.78, 4.009, 56.7301, 9.01344, 32.00013]\n"
     ]
    }
   ],
   "source": [
    "result = list(map(round, circle_areas, range(1, 7)))\n",
    "\n",
    "print(result)"
   ]
  },
  {
   "cell_type": "markdown",
   "metadata": {},
   "source": [
    "<ul>\n",
    "    <li>Функция <code>range(1, 7)</code> выступает в качестве второго аргумента для функции <code>round</code> (количество десятичных разрядов на каждое повторение). В момент первого запуска <code>round</code> получает число <code>3.56674</code> и <code>1</code> (так как <code>range(1, 7)</code>)</li>\n",
    "    <li><code>map()</code> итерирует объекты. То есть работает примерно как цикл.</li>\n",
    "</ul>"
   ]
  },
  {
   "cell_type": "code",
   "execution_count": 26,
   "metadata": {},
   "outputs": [
    {
     "name": "stdout",
     "output_type": "stream",
     "text": [
      "[3.6, 5.78]\n"
     ]
    }
   ],
   "source": [
    "result = list(map(round, circle_areas, range(1, 3)))\n",
    "\n",
    "print(result)"
   ]
  },
  {
   "cell_type": "markdown",
   "metadata": {},
   "source": [
    "<p>Если передать недостаточное количество итерируемых объектов (они будут отличаться по количеству), <code>map()</code> будет использовать допустимый минимум.</p>"
   ]
  },
  {
   "cell_type": "code",
   "execution_count": 27,
   "metadata": {},
   "outputs": [
    {
     "name": "stdout",
     "output_type": "stream",
     "text": [
      "[('a', 1), ('b', 2), ('c', 3), ('d', 4), ('e', 5), ('f', 6), ('g', 7), ('h', 8)]\n"
     ]
    }
   ],
   "source": [
    "letters = ['a', 'b', 'c', 'd', 'e', 'f', 'g', 'h']\n",
    "numbers = [1, 2, 3, 4, 5, 6, 7, 8]\n",
    "\n",
    "result = list(map(lambda x, y: (x, y), letters, numbers))\n",
    "\n",
    "print(result)"
   ]
  },
  {
   "cell_type": "code",
   "execution_count": 27,
   "metadata": {},
   "outputs": [],
   "source": []
  }
 ],
 "metadata": {
  "kernelspec": {
   "display_name": "Python 3 (ipykernel)",
   "language": "python",
   "name": "python3"
  },
  "language_info": {
   "codemirror_mode": {
    "name": "ipython",
    "version": 3
   },
   "file_extension": ".py",
   "mimetype": "text/x-python",
   "name": "python",
   "nbconvert_exporter": "python",
   "pygments_lexer": "ipython3",
   "version": "3.9.4"
  }
 },
 "nbformat": 4,
 "nbformat_minor": 1
}
