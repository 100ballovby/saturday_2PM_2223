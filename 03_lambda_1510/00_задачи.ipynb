{
 "cells": [
  {
   "cell_type": "markdown",
   "metadata": {
    "collapsed": true
   },
   "source": [
    "# Задачи <code>lambda</code>\n",
    "\n",
    "<p style=\"font-size: 18px;\">Задача 1. Напишите <code>lambda</code> выражение, которая принимает один аргумент, и этот аргумент будет умножен на неизвестное заданное число. Число нужно сгенерировать.</p>"
   ]
  },
  {
   "cell_type": "code",
   "execution_count": 25,
   "metadata": {},
   "outputs": [
    {
     "name": "stdout",
     "output_type": "stream",
     "text": [
      "5 * 923 = 4615\n"
     ]
    }
   ],
   "source": [
    "import random as r \n",
    "\n",
    "x = int(input('Введите число: '))\n",
    "n = r.randint(1, 1000)\n",
    "res = lambda a, b: a * b\n",
    "print(f'{x} * {n} = {res(x, n)}')"
   ]
  },
  {
   "cell_type": "markdown",
   "metadata": {},
   "source": [
    "<p style=\"font-size: 18px;\">Задача 2. Напишите <code>lambda</code> выражение, для сортировки списка кортежей.</p> "
   ]
  },
  {
   "cell_type": "code",
   "execution_count": 26,
   "metadata": {},
   "outputs": [],
   "source": [
    "marks = [('Math', 97), ('Physics', 66), ('English', 83), ('Social science', 74)]"
   ]
  },
  {
   "cell_type": "markdown",
   "metadata": {},
   "source": [
    "<p style=\"font-size: 18px;\">Списочный метод <code>sort()</code> имеет необязательный атрибут <code>key</code>, позволяющий указать критерии сортировки.</p>\n",
    "<p style=\"font-size: 18px;\">Зная эту фишку, мы можем решить задачу следующим образом:</p>"
   ]
  },
  {
   "cell_type": "code",
   "execution_count": 27,
   "metadata": {},
   "outputs": [
    {
     "name": "stdout",
     "output_type": "stream",
     "text": [
      "[('Physics', 66), ('Social science', 74), ('English', 83), ('Math', 97)]\n"
     ]
    }
   ],
   "source": [
    "marks.sort(key=lambda x: x[1])\n",
    "print(marks)"
   ]
  },
  {
   "cell_type": "markdown",
   "metadata": {},
   "source": [
    "<p style=\"font-size: 18px;\">Задача 3. Напишите <code>lambda</code> выражение, для сортировки списка словарей по одному из ключей. Ключ можете вводить с клавиатуры.</p>"
   ]
  },
  {
   "cell_type": "code",
   "execution_count": 28,
   "metadata": {},
   "outputs": [
    {
     "name": "stdout",
     "output_type": "stream",
     "text": [
      "[{'brand': 'Mercedes', 'model': 'EQS', 'color': 'black'}, {'brand': 'Audi', 'model': 'a8', 'color': 'champagne'}, {'brand': 'Volvo', 'model': 'XC90', 'color': 'coffee'}, {'brand': 'Tesla', 'model': 'Model S', 'color': 'white'}]\n"
     ]
    }
   ],
   "source": [
    "cars = [\n",
    "    {'brand': 'Tesla',\n",
    "    'model': 'Model S',\n",
    "    'color': 'white'},\n",
    "    \n",
    "    {'brand': 'Mercedes',\n",
    "    'model': 'EQS',\n",
    "    'color': 'black'},\n",
    "    \n",
    "    {'brand': 'Volvo',\n",
    "    'model': 'XC90',\n",
    "    'color': 'coffee'},\n",
    "    \n",
    "    {'brand': 'Audi',\n",
    "    'model': 'a8',\n",
    "    'color': 'champagne'},\n",
    "]\n",
    "key = input('Введите ключ: ')\n",
    "cars.sort(key=lambda l: l[key])\n",
    "print(cars)"
   ]
  },
  {
   "cell_type": "markdown",
   "metadata": {},
   "source": [
    "<p style=\"font-size: 18px;\">Задача 4. Напишите <code>lambda</code> которое выражение, проверяет, начинается ли введенная строка с определенного символа.</p>"
   ]
  },
  {
   "cell_type": "code",
   "execution_count": 29,
   "metadata": {},
   "outputs": [
    {
     "name": "stdout",
     "output_type": "stream",
     "text": [
      "True\n"
     ]
    }
   ],
   "source": [
    "word = input('Впишите слово: ')\n",
    "symbol = input('Впишите символ: ')\n",
    "\n",
    "starts_with = lambda x: True if x.startswith(symbol) else False \n",
    "print(starts_with(word))"
   ]
  },
  {
   "cell_type": "markdown",
   "metadata": {},
   "source": [
    "<p style=\"font-size: 18px\">У задачи есть более короткое решение с <code>lambda</code>, для которого мы немножко упростим условие.</p>\n",
    "<p style=\"font-size: 18px\">Метод <code>startswith()</code> сам возвращает <code>True</code> или <code>False</code>.</p>"
   ]
  },
  {
   "cell_type": "code",
   "execution_count": 30,
   "metadata": {},
   "outputs": [
    {
     "name": "stdout",
     "output_type": "stream",
     "text": [
      "True\n"
     ]
    }
   ],
   "source": [
    "word = input('Впишите слово: ')\n",
    "symbol = input('Впишите символ: ')\n",
    "\n",
    "starts_with = lambda x: x.startswith(symbol)\n",
    "print(starts_with(word))"
   ]
  },
  {
   "cell_type": "markdown",
   "metadata": {},
   "source": [
    "<p style=\"font-size: 18px\">Когда речь идет о проверке только одного символа в начале строки, вы можете воспользоваться системой индексов и оператором <code>==</code>.</p>"
   ]
  },
  {
   "cell_type": "code",
   "execution_count": 31,
   "metadata": {},
   "outputs": [
    {
     "name": "stdout",
     "output_type": "stream",
     "text": [
      "True\n"
     ]
    }
   ],
   "source": [
    "word = input('Впишите слово: ')\n",
    "symbol = input('Впишите символ: ')\n",
    "\n",
    "starts_with = lambda x: x[0] == symbol\n",
    "print(starts_with(word))"
   ]
  },
  {
   "cell_type": "markdown",
   "metadata": {},
   "source": [
    "<p style=\"font-size: 18px;\">Задача 5. Напишите <code>lambda</code> выражение, которое получает список из чисел и выводит новый список, состоящий только из четных чисел. И такая же программа для списка нечетных чисел.</p>\n",
    "\n",
    "<p p style=\"font-size: 18px;\"><code>a = [1, 2, 3, 4, 5, 6, 7, 8, 9]</code></p>\n",
    "<p p style=\"font-size: 18px;\">Проограмма должна составить новый список: <code>a = [2, 4, 6, 8]</code>, <b>НО</b> никто не гарантирует, что числа в списке будут стоять в таком порядке.</p>"
   ]
  },
  {
   "cell_type": "code",
   "execution_count": 32,
   "metadata": {},
   "outputs": [
    {
     "name": "stdout",
     "output_type": "stream",
     "text": [
      "[0, 2, 2, 6, 10]\n",
      "[3, 5, 5, 7, 7, 15, 49]\n"
     ]
    }
   ],
   "source": [
    "a = [5, 3, 2, 7, 7, 49, 2, 0, 10, 15, 5, 6]\n",
    "\n",
    "even = list(filter(lambda x: x % 2 == 0, a))\n",
    "odd = list(filter(lambda x: x % 2 != 0, a))\n",
    "\n",
    "even.sort()\n",
    "odd.sort()\n",
    "\n",
    "print(even)\n",
    "print(odd)"
   ]
  },
  {
   "cell_type": "markdown",
   "metadata": {},
   "source": [
    "<p style=\"font-size: 18px;\">Задача 6. Напишите программу, которая складывает элементы двух списков и находит разницу между ними. Для решения нужна будет функция <code>map()</code>.</p>"
   ]
  },
  {
   "cell_type": "code",
   "execution_count": 33,
   "metadata": {},
   "outputs": [
    {
     "name": "stdout",
     "output_type": "stream",
     "text": [
      "[(6, 6), (6, 4), (10, -4), (16, 2)]\n"
     ]
    }
   ],
   "source": [
    "num1 = [6, 5, 3, 9]\n",
    "num2 = [0, 1, 7, 7]\n",
    "\n",
    "def add_subs(x, y):\n",
    "    return x + y, x - y\n",
    "\n",
    "result = list(map(add_subs, num1, num2))\n",
    "print(result)"
   ]
  }
 ],
 "metadata": {
  "kernelspec": {
   "display_name": "Python 3 (ipykernel)",
   "language": "python",
   "name": "python3"
  },
  "language_info": {
   "codemirror_mode": {
    "name": "ipython",
    "version": 3
   },
   "file_extension": ".py",
   "mimetype": "text/x-python",
   "name": "python",
   "nbconvert_exporter": "python",
   "pygments_lexer": "ipython3",
   "version": "3.9.4"
  }
 },
 "nbformat": 4,
 "nbformat_minor": 1
}
