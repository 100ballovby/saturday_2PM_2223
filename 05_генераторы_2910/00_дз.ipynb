{
 "cells": [
  {
   "cell_type": "markdown",
   "metadata": {
    "collapsed": true
   },
   "source": [
    "# Домашняя задача.\n",
    "\n",
    "<p style=\"font-size: 18px;\">Перевернуть каждое второе слово в заданной строке, а затем вернуть строку. Отбросьте все начальные или конечные пробелы, убедившись, что между каждым словом есть ровно один пробел. Знаки препинания следует рассматривать так, как если бы они были частью слова.</p>\n",
    "\n",
    "\n",
    "<p style=\"font-size: 18px;\">Самый простой вариант решения задачи - написать функцию, внутри которой будет цикл, перебирающий список, созданный из строки.</p>"
   ]
  },
  {
   "cell_type": "code",
   "execution_count": 1,
   "metadata": {},
   "outputs": [
    {
     "name": "stdout",
     "output_type": "stream",
     "text": [
      "Did ti work?\n",
      "I yllaer hope ti works ...won\n",
      "''\n"
     ]
    }
   ],
   "source": [
    "def reverse_string(string):\n",
    "    arr = string.split()\n",
    "    for i in range(1, len(arr), 2):\n",
    "        arr[i] = arr[i][::-1]\n",
    "    return ' '.join(arr)\n",
    "\n",
    "print(reverse_string('Did it work?'))\n",
    "print(reverse_string('I really hope it works now...'))\n",
    "print(\"'\" + reverse_string('  ') + \"'\")"
   ]
  },
  {
   "cell_type": "markdown",
   "metadata": {},
   "source": [
    "<p style=\"font-size: 18px;\">Вариант чуть сложнее: написать генератор списка, который будет выполнять все те же странные вещи.</p>"
   ]
  },
  {
   "cell_type": "code",
   "execution_count": 2,
   "metadata": {},
   "outputs": [
    {
     "name": "stdout",
     "output_type": "stream",
     "text": [
      "Did ti work?\n",
      "I yllaer hope ti works ...won\n",
      "''\n"
     ]
    }
   ],
   "source": [
    "def reverse_string(string):\n",
    "    arr = string.split()\n",
    "    arr[1::2] = [word[::-1] for word in arr[1::2]]\n",
    "    return ' '.join(arr)\n",
    "\n",
    "print(reverse_string('Did it work?'))\n",
    "print(reverse_string('I really hope it works now...'))\n",
    "print(\"'\" + reverse_string('  ') + \"'\")"
   ]
  },
  {
   "cell_type": "markdown",
   "metadata": {},
   "source": [
    "<p style=\"font-size: 18px;\">Запись <code>arr[1::2]</code> означает, что я разрезаю список по нечетным индексам - с индекса 1 и шагом 2. Это можно заменить как: <code>arr[1], arr[3], arr[4], ... arr[n]</code>.</p>"
   ]
  }
 ],
 "metadata": {
  "kernelspec": {
   "display_name": "Python 3 (ipykernel)",
   "language": "python",
   "name": "python3"
  },
  "language_info": {
   "codemirror_mode": {
    "name": "ipython",
    "version": 3
   },
   "file_extension": ".py",
   "mimetype": "text/x-python",
   "name": "python",
   "nbconvert_exporter": "python",
   "pygments_lexer": "ipython3",
   "version": "3.9.4"
  }
 },
 "nbformat": 4,
 "nbformat_minor": 1
}
