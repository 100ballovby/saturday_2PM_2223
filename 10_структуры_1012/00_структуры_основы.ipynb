{
 "cells": [
  {
   "cell_type": "markdown",
   "metadata": {
    "collapsed": true
   },
   "source": [
    "# Структуры и словари \n",
    "\n",
    "<p style=\"font-size: 18px;\"><b>Структуры</b> - это пользовательские типы данных, которые хранят в себе записи с разными типами.</p>\n",
    "\n",
    "<pre>\n",
    "<p style=\"font-size: 18px;\">\n",
    "struct name {\n",
    "    int id;\n",
    "    int age;\n",
    "    string name;\n",
    "}\n",
    "</p>\n",
    "</pre>\n",
    "\n",
    "<p style=\"font-size: 18px;\">Аналогом структур в питоне являются словари, потому что они тоже могут хранить множество значений разных типов, у них тоже есть поля (ключи) и значения, которые к этим полям привязаны.</p>"
   ]
  },
  {
   "cell_type": "code",
   "execution_count": 1,
   "metadata": {},
   "outputs": [
    {
     "name": "stdout",
     "output_type": "stream",
     "text": [
      "<class 'dict'>\n"
     ]
    }
   ],
   "source": [
    "person = {\n",
    "    \"id\": 0,\n",
    "    \"name\": \"\",\n",
    "    \"address\": \"\",\n",
    "    \"phone\": \"\",\n",
    "}\n",
    "\n",
    "print(type(person))"
   ]
  },
  {
   "cell_type": "markdown",
   "metadata": {},
   "source": [
    "<p style=\"font-size: 18px;\">Словари можно наполнять занчениями. Чтобы это сделать, каждому ключу словаря нужно присвоить значение. Чтобы сделать это быстро, воспользуемся циклом, который будет перебирать ключи словаря.</p>"
   ]
  },
  {
   "cell_type": "code",
   "execution_count": 4,
   "metadata": {},
   "outputs": [
    {
     "name": "stdout",
     "output_type": "stream",
     "text": [
      "Значение ключа id: 3\n",
      "Значение ключа name: Petr\n",
      "Значение ключа address: 5th Avenue\n",
      "Значение ключа phone: +14955550100\n"
     ]
    }
   ],
   "source": [
    "for key in person:\n",
    "    person[key] = input(f\"Значение ключа {key}: \")"
   ]
  },
  {
   "cell_type": "code",
   "execution_count": 5,
   "metadata": {},
   "outputs": [
    {
     "name": "stdout",
     "output_type": "stream",
     "text": [
      "{'id': '3', 'name': 'Petr', 'address': '5th Avenue', 'phone': '+14955550100'}\n"
     ]
    }
   ],
   "source": [
    "print(person)"
   ]
  },
  {
   "cell_type": "markdown",
   "metadata": {},
   "source": [
    "<p style=\"font-size: 18px;\">Главная проблема словарей заключается в том, что они не могут иметь два одинаковых ключа, что делает невозможным работу с ними в контексте хранения нескольких одинаковых объектов. В обычной ситуации придется создать по одному словарю на каждый объект, который вы будете сохранять.</p>\n",
    "\n",
    "<p style=\"font-size: 18px;\">Хорошим решением или выходом из ситуации будет создание аналога <a href=\"https://habr.com/ru/post/554274/\" target=\"_blank\">JSON</a>. JSON представляет собой (если просто) список словарей. Словари являются элементами списка и чтобы обратитться к конкретному словарю (объекту), нужно указать имя списка, затем индекс, а затем либо вывести весь словарь, либо вывести значение какого-то ключа из словаря.</p>"
   ]
  },
  {
   "cell_type": "code",
   "execution_count": 7,
   "metadata": {},
   "outputs": [
    {
     "name": "stdout",
     "output_type": "stream",
     "text": [
      "Информация о Федоре: {'id': '2', 'name': 'Fedor', 'address': '5th Avenue', 'phone': '+14955550100'}\n",
      "ID Федора: 2\n"
     ]
    }
   ],
   "source": [
    "persons = [\n",
    "    {'id': '1', 'name': 'Petr', 'address': '5th Avenue', 'phone': '+14955550100'},\n",
    "    {'id': '2', 'name': 'Fedor', 'address': '5th Avenue', 'phone': '+14955550100'},\n",
    "    {'id': '3', 'name': 'Ilya', 'address': '5th Avenue', 'phone': '+14955550100'},\n",
    "]\n",
    "\n",
    "print(\"Информация о Федоре:\", persons[1])\n",
    "print(\"ID Федора:\", persons[1][\"id\"])"
   ]
  },
  {
   "cell_type": "code",
   "execution_count": null,
   "metadata": {},
   "outputs": [],
   "source": []
  }
 ],
 "metadata": {
  "kernelspec": {
   "display_name": "Python 3 (ipykernel)",
   "language": "python",
   "name": "python3"
  },
  "language_info": {
   "codemirror_mode": {
    "name": "ipython",
    "version": 3
   },
   "file_extension": ".py",
   "mimetype": "text/x-python",
   "name": "python",
   "nbconvert_exporter": "python",
   "pygments_lexer": "ipython3",
   "version": "3.9.4"
  }
 },
 "nbformat": 4,
 "nbformat_minor": 1
}
